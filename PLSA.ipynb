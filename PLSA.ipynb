{
 "cells": [
  {
   "cell_type": "code",
   "execution_count": 207,
   "metadata": {},
   "outputs": [],
   "source": [
    "import numpy as np\n",
    "import pandas as pd\n",
    "import stop_words\n",
    "import os\n",
    "\n",
    "from sklearn.feature_extraction.text import CountVectorizer\n",
    "from sklearn.utils import shuffle"
   ]
  },
  {
   "cell_type": "code",
   "execution_count": 5,
   "metadata": {},
   "outputs": [],
   "source": [
    "# Load whole dataset\n",
    "\n",
    "root_folder = './newsdataset/20news-bydate-train'\n",
    "\n",
    "docs = []\n",
    "\n",
    "for subdir in os.listdir(root_folder):\n",
    "    for doc in os.listdir(root_folder + '/' + subdir):\n",
    "        with open(root_folder + '/' + subdir + '/' + doc, 'r') as f:\n",
    "            docs.append(f.read())\n",
    "            \n"
   ]
  },
  {
   "cell_type": "code",
   "execution_count": 209,
   "metadata": {},
   "outputs": [],
   "source": [
    "# Load some selected topics\n",
    "\n",
    "docs = []\n",
    "\n",
    "for doc in os.listdir(root_folder + '/comp.windows.x'):\n",
    "    with open(root_folder + '/comp.windows.x/' + doc, 'r') as f:\n",
    "        docs.append(f.read())\n",
    "        \n",
    "for doc in os.listdir(root_folder + '/soc.religion.christian'):\n",
    "    with open(root_folder + '/soc.religion.christian/' + doc, 'r') as f:\n",
    "        docs.append(f.read())"
   ]
  },
  {
   "cell_type": "code",
   "execution_count": 213,
   "metadata": {},
   "outputs": [
    {
     "name": "stdout",
     "output_type": "stream",
     "text": [
      "1192 docs of CompSci + Theology has been loaded\n"
     ]
    }
   ],
   "source": [
    "print('{} docs of CompSci + Theology has been loaded'.format(len(docs)))"
   ]
  },
  {
   "cell_type": "code",
   "execution_count": 214,
   "metadata": {},
   "outputs": [],
   "source": [
    "class PLSA(object):\n",
    "    def __init__(self, num_topics, max_tokens, num_docs):\n",
    "        self.num_topics = num_topics\n",
    "        self.max_tokens = max_tokens\n",
    "        self.num_docs = num_docs\n",
    "        \n",
    "        self.p_w_z = None\n",
    "        self.p_z_d = None\n",
    "        self.p_z_w_d = None\n",
    "\n",
    "        self.p_d = None\n",
    "        self.vectorizer = None\n",
    "    \n",
    "    def expectation(self):\n",
    "        for token in range(self.max_tokens):\n",
    "            for document in range(self.num_docs):\n",
    "                denominator = np.sum(self.p_w_z[token, :] * self.p_z_d[:, document])\n",
    "                self.p_z_w_d[:, token, document] = self.p_w_z[token, :] * self.p_z_d[:, document] / denominator\n",
    "\n",
    "    \n",
    "    def maximization_w_z(self, X):\n",
    "        # recalculate p_w_z\n",
    "        for token in range(self.max_tokens):\n",
    "            for topic in range(self.num_topics):\n",
    "                numerator = np.sum(X[:, token] * self.p_z_w_d[topic, token, :].reshape(-1))\n",
    "                denominator = np.sum(np.sum(X[:, :] * self.p_z_w_d[topic, :, :].T))\n",
    "                \n",
    "                self.p_w_z[token, topic] = numerator / denominator\n",
    "                \n",
    "    def maximization_z_d(self, X):\n",
    "        # recalculate p_z_d\n",
    "        for topic in range(self.num_topics):\n",
    "            for document in range(self.num_docs):\n",
    "                numerator = np.sum(X[document, :] * self.p_z_w_d[topic, :, document])\n",
    "                self.p_z_d[topic, document] = numerator / np.sum(X[document:])\n",
    "    \n",
    "    \n",
    "    def fit(self, X, y=None):\n",
    "        self.vectorizer = CountVectorizer(ngram_range=(1, 1), max_features=self.max_tokens, stop_words=stop_words.get_stop_words('en'))\n",
    "        X = np.asarray(self.vectorizer.fit_transform(X).todense())\n",
    "        \n",
    "        # initialization of parameters to be estimated\n",
    "        self.p_w_z = np.random.uniform(0,1, size=(self.max_tokens, self.num_topics))\n",
    "        self.p_z_d = np.random.uniform(0,1, size=(self.num_topics, self.num_docs))\n",
    "        self.p_z_w_d = np.zeros((self.num_topics, self.max_tokens, self.num_docs))\n",
    "        #\n",
    "        for i in range(20):\n",
    "            print('iteration {}'.format(i+1))\n",
    "            print('E-step')\n",
    "            self.expectation()\n",
    "            print('M-step')\n",
    "            self.maximization_w_z(X)\n",
    "            self.maximization_z_d(X)\n",
    "        return self.p_z_w_d\n",
    "        \n",
    "        "
   ]
  },
  {
   "cell_type": "code",
   "execution_count": 215,
   "metadata": {},
   "outputs": [],
   "source": [
    "docs = shuffle(docs)"
   ]
  },
  {
   "cell_type": "code",
   "execution_count": 217,
   "metadata": {},
   "outputs": [
    {
     "name": "stdout",
     "output_type": "stream",
     "text": [
      "iteration 0\n",
      "E-step\n",
      "M-step\n",
      "iteration 1\n",
      "E-step\n",
      "M-step\n",
      "iteration 2\n",
      "E-step\n",
      "M-step\n",
      "iteration 3\n",
      "E-step\n",
      "M-step\n",
      "iteration 4\n",
      "E-step\n",
      "M-step\n",
      "iteration 5\n",
      "E-step\n",
      "M-step\n",
      "iteration 6\n",
      "E-step\n",
      "M-step\n",
      "iteration 7\n",
      "E-step\n",
      "M-step\n",
      "iteration 8\n",
      "E-step\n",
      "M-step\n",
      "iteration 9\n",
      "E-step\n",
      "M-step\n",
      "iteration 10\n",
      "E-step\n",
      "M-step\n",
      "iteration 11\n",
      "E-step\n",
      "M-step\n",
      "iteration 12\n",
      "E-step\n",
      "M-step\n",
      "iteration 13\n",
      "E-step\n",
      "M-step\n",
      "iteration 14\n",
      "E-step\n",
      "M-step\n",
      "iteration 15\n",
      "E-step\n",
      "M-step\n",
      "iteration 16\n",
      "E-step\n",
      "M-step\n",
      "iteration 17\n",
      "E-step\n",
      "M-step\n",
      "iteration 18\n",
      "E-step\n",
      "M-step\n",
      "iteration 19\n",
      "E-step\n",
      "M-step\n"
     ]
    }
   ],
   "source": [
    "plsa = PLSA(2, 1000, len(docs))\n",
    "X = plsa.fit(docs)"
   ]
  },
  {
   "cell_type": "code",
   "execution_count": 218,
   "metadata": {},
   "outputs": [],
   "source": [
    "df = pd.DataFrame(plsa.p_w_z, index = plsa.vectorizer.get_feature_names())"
   ]
  },
  {
   "cell_type": "code",
   "execution_count": 223,
   "metadata": {},
   "outputs": [],
   "source": [
    "keywords = []\n",
    "for i in range(df.columns.size):\n",
    "    keywords.append(df[i].sort_values(ascending=False).iloc[:10].index.tolist())"
   ]
  },
  {
   "cell_type": "code",
   "execution_count": 224,
   "metadata": {},
   "outputs": [
    {
     "data": {
      "text/html": [
       "<div>\n",
       "<style scoped>\n",
       "    .dataframe tbody tr th:only-of-type {\n",
       "        vertical-align: middle;\n",
       "    }\n",
       "\n",
       "    .dataframe tbody tr th {\n",
       "        vertical-align: top;\n",
       "    }\n",
       "\n",
       "    .dataframe thead th {\n",
       "        text-align: right;\n",
       "    }\n",
       "</style>\n",
       "<table border=\"1\" class=\"dataframe\">\n",
       "  <thead>\n",
       "    <tr style=\"text-align: right;\">\n",
       "      <th></th>\n",
       "      <th>0</th>\n",
       "      <th>1</th>\n",
       "      <th>2</th>\n",
       "      <th>3</th>\n",
       "      <th>4</th>\n",
       "      <th>5</th>\n",
       "      <th>6</th>\n",
       "      <th>7</th>\n",
       "      <th>8</th>\n",
       "      <th>9</th>\n",
       "    </tr>\n",
       "  </thead>\n",
       "  <tbody>\n",
       "    <tr>\n",
       "      <th>topic_0</th>\n",
       "      <td>god</td>\n",
       "      <td>edu</td>\n",
       "      <td>can</td>\n",
       "      <td>one</td>\n",
       "      <td>will</td>\n",
       "      <td>re</td>\n",
       "      <td>people</td>\n",
       "      <td>subject</td>\n",
       "      <td>lines</td>\n",
       "      <td>jesus</td>\n",
       "    </tr>\n",
       "    <tr>\n",
       "      <th>topic_1</th>\n",
       "      <td>com</td>\n",
       "      <td>edu</td>\n",
       "      <td>window</td>\n",
       "      <td>can</td>\n",
       "      <td>subject</td>\n",
       "      <td>lines</td>\n",
       "      <td>file</td>\n",
       "      <td>organization</td>\n",
       "      <td>use</td>\n",
       "      <td>mit</td>\n",
       "    </tr>\n",
       "  </tbody>\n",
       "</table>\n",
       "</div>"
      ],
      "text/plain": [
       "           0    1       2    3        4      5       6             7      8  \\\n",
       "topic_0  god  edu     can  one     will     re  people       subject  lines   \n",
       "topic_1  com  edu  window  can  subject  lines    file  organization    use   \n",
       "\n",
       "             9  \n",
       "topic_0  jesus  \n",
       "topic_1    mit  "
      ]
     },
     "execution_count": 224,
     "metadata": {},
     "output_type": "execute_result"
    }
   ],
   "source": [
    "pd.DataFrame(keywords, index = list(map(lambda x: 'topic_%d' % x, range(2))))"
   ]
  },
  {
   "cell_type": "code",
   "execution_count": null,
   "metadata": {},
   "outputs": [],
   "source": []
  }
 ],
 "metadata": {
  "kernelspec": {
   "display_name": "Python 3",
   "language": "python",
   "name": "python3"
  },
  "language_info": {
   "codemirror_mode": {
    "name": "ipython",
    "version": 3
   },
   "file_extension": ".py",
   "mimetype": "text/x-python",
   "name": "python",
   "nbconvert_exporter": "python",
   "pygments_lexer": "ipython3",
   "version": "3.6.6"
  }
 },
 "nbformat": 4,
 "nbformat_minor": 2
}
